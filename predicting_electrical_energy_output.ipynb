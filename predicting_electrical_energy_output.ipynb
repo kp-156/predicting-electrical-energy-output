{
  "nbformat": 4,
  "nbformat_minor": 0,
  "metadata": {
    "colab": {
      "provenance": [],
      "include_colab_link": true
    },
    "kernelspec": {
      "name": "python3",
      "display_name": "Python 3"
    }
  },
  "cells": [
    {
      "cell_type": "markdown",
      "metadata": {
        "id": "view-in-github",
        "colab_type": "text"
      },
      "source": [
        "<a href=\"https://colab.research.google.com/github/kp-156/predicting-electrical-energy-output/blob/master/predicting_electrical_energy_output.ipynb\" target=\"_parent\"><img src=\"https://colab.research.google.com/assets/colab-badge.svg\" alt=\"Open In Colab\"/></a>"
      ]
    },
    {
      "cell_type": "code",
      "metadata": {
        "id": "lxChR1Rk-umf"
      },
      "source": [
        "import numpy as np\n",
        "import pandas as pd\n",
        "import tensorflow as tf"
      ],
      "execution_count": null,
      "outputs": []
    },
    {
      "cell_type": "code",
      "metadata": {
        "id": "uBTqR3nacj0e",
        "colab": {
          "base_uri": "https://localhost:8080/",
          "height": 35
        },
        "outputId": "74a094f7-90c1-4a4d-dec8-cc57e8b91c92"
      },
      "source": [
        "tf.__version__"
      ],
      "execution_count": null,
      "outputs": [
        {
          "output_type": "execute_result",
          "data": {
            "text/plain": [
              "'2.12.0'"
            ],
            "application/vnd.google.colaboratory.intrinsic+json": {
              "type": "string"
            }
          },
          "metadata": {},
          "execution_count": 2
        }
      ]
    },
    {
      "cell_type": "code",
      "metadata": {
        "id": "B9CV13Co_HHM"
      },
      "source": [
        "dataset = pd.read_excel('Folds5x2_pp.xlsx')\n",
        "X = dataset.iloc[:, :-1].values\n",
        "y = dataset.iloc[:, -1].values"
      ],
      "execution_count": 4,
      "outputs": []
    },
    {
      "cell_type": "code",
      "metadata": {
        "id": "L5edeb2r_agx"
      },
      "source": [
        "from sklearn.model_selection import train_test_split\n",
        "X_train, X_test, y_train, y_test = train_test_split(X, y, test_size = 0.2, random_state = 0)"
      ],
      "execution_count": 5,
      "outputs": []
    },
    {
      "cell_type": "code",
      "metadata": {
        "id": "J6Hd97Ls__Nz"
      },
      "source": [
        "ann = tf.keras.models.Sequential()"
      ],
      "execution_count": 6,
      "outputs": []
    },
    {
      "cell_type": "code",
      "metadata": {
        "id": "ksO_Vv40AHix"
      },
      "source": [
        "ann.add(tf.keras.layers.Dense(units=6, activation='relu'))"
      ],
      "execution_count": 7,
      "outputs": []
    },
    {
      "cell_type": "code",
      "metadata": {
        "id": "c2357OqEAQOQ"
      },
      "source": [
        "ann.add(tf.keras.layers.Dense(units=6, activation='relu'))"
      ],
      "execution_count": 9,
      "outputs": []
    },
    {
      "cell_type": "code",
      "metadata": {
        "id": "YFATpzsUAkLL"
      },
      "source": [
        "ann.add(tf.keras.layers.Dense(units=1))"
      ],
      "execution_count": 10,
      "outputs": []
    },
    {
      "cell_type": "code",
      "metadata": {
        "id": "pesgbWlCAtB4"
      },
      "source": [
        "ann.compile(optimizer = 'adam', loss = 'mean_squared_error')"
      ],
      "execution_count": 11,
      "outputs": []
    },
    {
      "cell_type": "code",
      "metadata": {
        "id": "c_vV-tiiA5zn",
        "colab": {
          "base_uri": "https://localhost:8080/"
        },
        "outputId": "fb2fbdea-e920-4474-d9f8-13470a47f952"
      },
      "source": [
        "ann.fit(X_train, y_train, batch_size = 32, epochs = 100)"
      ],
      "execution_count": 12,
      "outputs": [
        {
          "output_type": "stream",
          "name": "stdout",
          "text": [
            "Epoch 1/100\n",
            "240/240 [==============================] - 3s 3ms/step - loss: 326.0991\n",
            "Epoch 2/100\n",
            "240/240 [==============================] - 1s 3ms/step - loss: 222.9691\n",
            "Epoch 3/100\n",
            "240/240 [==============================] - 1s 2ms/step - loss: 144.9860\n",
            "Epoch 4/100\n",
            "240/240 [==============================] - 1s 2ms/step - loss: 84.2411\n",
            "Epoch 5/100\n",
            "240/240 [==============================] - 1s 2ms/step - loss: 49.6152\n",
            "Epoch 6/100\n",
            "240/240 [==============================] - 1s 2ms/step - loss: 37.9766\n",
            "Epoch 7/100\n",
            "240/240 [==============================] - 0s 2ms/step - loss: 34.3602\n",
            "Epoch 8/100\n",
            "240/240 [==============================] - 0s 2ms/step - loss: 32.7227\n",
            "Epoch 9/100\n",
            "240/240 [==============================] - 1s 2ms/step - loss: 33.7260\n",
            "Epoch 10/100\n",
            "240/240 [==============================] - 0s 2ms/step - loss: 31.4898\n",
            "Epoch 11/100\n",
            "240/240 [==============================] - 0s 2ms/step - loss: 31.3383\n",
            "Epoch 12/100\n",
            "240/240 [==============================] - 0s 2ms/step - loss: 31.0764\n",
            "Epoch 13/100\n",
            "240/240 [==============================] - 1s 2ms/step - loss: 30.2275\n",
            "Epoch 14/100\n",
            "240/240 [==============================] - 0s 2ms/step - loss: 30.8198\n",
            "Epoch 15/100\n",
            "240/240 [==============================] - 0s 2ms/step - loss: 30.0354\n",
            "Epoch 16/100\n",
            "240/240 [==============================] - 1s 4ms/step - loss: 31.0496\n",
            "Epoch 17/100\n",
            "240/240 [==============================] - 1s 5ms/step - loss: 30.1156\n",
            "Epoch 18/100\n",
            "240/240 [==============================] - 1s 4ms/step - loss: 29.1353\n",
            "Epoch 19/100\n",
            "240/240 [==============================] - 1s 3ms/step - loss: 28.5626\n",
            "Epoch 20/100\n",
            "240/240 [==============================] - 1s 3ms/step - loss: 28.8135\n",
            "Epoch 21/100\n",
            "240/240 [==============================] - 1s 3ms/step - loss: 28.1776\n",
            "Epoch 22/100\n",
            "240/240 [==============================] - 1s 3ms/step - loss: 28.7745\n",
            "Epoch 23/100\n",
            "240/240 [==============================] - 1s 2ms/step - loss: 28.8675\n",
            "Epoch 24/100\n",
            "240/240 [==============================] - 0s 2ms/step - loss: 28.0719\n",
            "Epoch 25/100\n",
            "240/240 [==============================] - 0s 2ms/step - loss: 27.8122\n",
            "Epoch 26/100\n",
            "240/240 [==============================] - 0s 2ms/step - loss: 27.3570\n",
            "Epoch 27/100\n",
            "240/240 [==============================] - 0s 2ms/step - loss: 27.8816\n",
            "Epoch 28/100\n",
            "240/240 [==============================] - 1s 2ms/step - loss: 28.2889\n",
            "Epoch 29/100\n",
            "240/240 [==============================] - 0s 2ms/step - loss: 28.5279\n",
            "Epoch 30/100\n",
            "240/240 [==============================] - 1s 2ms/step - loss: 28.1714\n",
            "Epoch 31/100\n",
            "240/240 [==============================] - 1s 2ms/step - loss: 28.2802\n",
            "Epoch 32/100\n",
            "240/240 [==============================] - 0s 2ms/step - loss: 27.7494\n",
            "Epoch 33/100\n",
            "240/240 [==============================] - 1s 2ms/step - loss: 27.3653\n",
            "Epoch 34/100\n",
            "240/240 [==============================] - 1s 2ms/step - loss: 27.9755\n",
            "Epoch 35/100\n",
            "240/240 [==============================] - 0s 2ms/step - loss: 27.0493\n",
            "Epoch 36/100\n",
            "240/240 [==============================] - 0s 2ms/step - loss: 27.0296\n",
            "Epoch 37/100\n",
            "240/240 [==============================] - 1s 2ms/step - loss: 27.1735\n",
            "Epoch 38/100\n",
            "240/240 [==============================] - 1s 2ms/step - loss: 27.9737\n",
            "Epoch 39/100\n",
            "240/240 [==============================] - 0s 2ms/step - loss: 27.4796\n",
            "Epoch 40/100\n",
            "240/240 [==============================] - 1s 2ms/step - loss: 27.2166\n",
            "Epoch 41/100\n",
            "240/240 [==============================] - 0s 2ms/step - loss: 27.5702\n",
            "Epoch 42/100\n",
            "240/240 [==============================] - 1s 2ms/step - loss: 27.0984\n",
            "Epoch 43/100\n",
            "240/240 [==============================] - 1s 3ms/step - loss: 27.6133\n",
            "Epoch 44/100\n",
            "240/240 [==============================] - 1s 3ms/step - loss: 28.7096\n",
            "Epoch 45/100\n",
            "240/240 [==============================] - 1s 3ms/step - loss: 26.8906\n",
            "Epoch 46/100\n",
            "240/240 [==============================] - 1s 3ms/step - loss: 27.5412\n",
            "Epoch 47/100\n",
            "240/240 [==============================] - 1s 2ms/step - loss: 27.0821\n",
            "Epoch 48/100\n",
            "240/240 [==============================] - 1s 2ms/step - loss: 28.1564\n",
            "Epoch 49/100\n",
            "240/240 [==============================] - 0s 2ms/step - loss: 26.8755\n",
            "Epoch 50/100\n",
            "240/240 [==============================] - 1s 2ms/step - loss: 26.6354\n",
            "Epoch 51/100\n",
            "240/240 [==============================] - 0s 2ms/step - loss: 26.6426\n",
            "Epoch 52/100\n",
            "240/240 [==============================] - 0s 2ms/step - loss: 26.9944\n",
            "Epoch 53/100\n",
            "240/240 [==============================] - 1s 2ms/step - loss: 26.0166\n",
            "Epoch 54/100\n",
            "240/240 [==============================] - 1s 2ms/step - loss: 26.8606\n",
            "Epoch 55/100\n",
            "240/240 [==============================] - 1s 2ms/step - loss: 25.3732\n",
            "Epoch 56/100\n",
            "240/240 [==============================] - 1s 2ms/step - loss: 25.6559\n",
            "Epoch 57/100\n",
            "240/240 [==============================] - 0s 2ms/step - loss: 25.1246\n",
            "Epoch 58/100\n",
            "240/240 [==============================] - 1s 2ms/step - loss: 24.8599\n",
            "Epoch 59/100\n",
            "240/240 [==============================] - 0s 2ms/step - loss: 25.4995\n",
            "Epoch 60/100\n",
            "240/240 [==============================] - 1s 2ms/step - loss: 25.8551\n",
            "Epoch 61/100\n",
            "240/240 [==============================] - 0s 2ms/step - loss: 25.5998\n",
            "Epoch 62/100\n",
            "240/240 [==============================] - 1s 2ms/step - loss: 24.5317\n",
            "Epoch 63/100\n",
            "240/240 [==============================] - 0s 2ms/step - loss: 24.2720\n",
            "Epoch 64/100\n",
            "240/240 [==============================] - 1s 2ms/step - loss: 24.5824\n",
            "Epoch 65/100\n",
            "240/240 [==============================] - 1s 2ms/step - loss: 25.1762\n",
            "Epoch 66/100\n",
            "240/240 [==============================] - 0s 2ms/step - loss: 25.3446\n",
            "Epoch 67/100\n",
            "240/240 [==============================] - 1s 3ms/step - loss: 24.2227\n",
            "Epoch 68/100\n",
            "240/240 [==============================] - 1s 3ms/step - loss: 24.5615\n",
            "Epoch 69/100\n",
            "240/240 [==============================] - 1s 3ms/step - loss: 24.7022\n",
            "Epoch 70/100\n",
            "240/240 [==============================] - 1s 3ms/step - loss: 25.3337\n",
            "Epoch 71/100\n",
            "240/240 [==============================] - 1s 2ms/step - loss: 24.5090\n",
            "Epoch 72/100\n",
            "240/240 [==============================] - 0s 2ms/step - loss: 24.8685\n",
            "Epoch 73/100\n",
            "240/240 [==============================] - 0s 2ms/step - loss: 25.6252\n",
            "Epoch 74/100\n",
            "240/240 [==============================] - 1s 2ms/step - loss: 24.3667\n",
            "Epoch 75/100\n",
            "240/240 [==============================] - 1s 2ms/step - loss: 24.4718\n",
            "Epoch 76/100\n",
            "240/240 [==============================] - 1s 2ms/step - loss: 24.7198\n",
            "Epoch 77/100\n",
            "240/240 [==============================] - 0s 2ms/step - loss: 25.9968\n",
            "Epoch 78/100\n",
            "240/240 [==============================] - 0s 2ms/step - loss: 24.5030\n",
            "Epoch 79/100\n",
            "240/240 [==============================] - 0s 2ms/step - loss: 24.5662\n",
            "Epoch 80/100\n",
            "240/240 [==============================] - 0s 2ms/step - loss: 24.3020\n",
            "Epoch 81/100\n",
            "240/240 [==============================] - 0s 2ms/step - loss: 25.1436\n",
            "Epoch 82/100\n",
            "240/240 [==============================] - 0s 2ms/step - loss: 24.5145\n",
            "Epoch 83/100\n",
            "240/240 [==============================] - 0s 2ms/step - loss: 24.1169\n",
            "Epoch 84/100\n",
            "240/240 [==============================] - 0s 2ms/step - loss: 25.4782\n",
            "Epoch 85/100\n",
            "240/240 [==============================] - 1s 2ms/step - loss: 25.1006\n",
            "Epoch 86/100\n",
            "240/240 [==============================] - 0s 2ms/step - loss: 24.4647\n",
            "Epoch 87/100\n",
            "240/240 [==============================] - 0s 2ms/step - loss: 24.3242\n",
            "Epoch 88/100\n",
            "240/240 [==============================] - 0s 2ms/step - loss: 24.8951\n",
            "Epoch 89/100\n",
            "240/240 [==============================] - 0s 2ms/step - loss: 24.4724\n",
            "Epoch 90/100\n",
            "240/240 [==============================] - 1s 2ms/step - loss: 24.6654\n",
            "Epoch 91/100\n",
            "240/240 [==============================] - 1s 3ms/step - loss: 24.5282\n",
            "Epoch 92/100\n",
            "240/240 [==============================] - 1s 3ms/step - loss: 25.1278\n",
            "Epoch 93/100\n",
            "240/240 [==============================] - 1s 3ms/step - loss: 25.2889\n",
            "Epoch 94/100\n",
            "240/240 [==============================] - 1s 4ms/step - loss: 24.4018\n",
            "Epoch 95/100\n",
            "240/240 [==============================] - 1s 2ms/step - loss: 24.9379\n",
            "Epoch 96/100\n",
            "240/240 [==============================] - 0s 2ms/step - loss: 24.4212\n",
            "Epoch 97/100\n",
            "240/240 [==============================] - 0s 2ms/step - loss: 24.3912\n",
            "Epoch 98/100\n",
            "240/240 [==============================] - 1s 2ms/step - loss: 24.5792\n",
            "Epoch 99/100\n",
            "240/240 [==============================] - 0s 2ms/step - loss: 24.8072\n",
            "Epoch 100/100\n",
            "240/240 [==============================] - 0s 2ms/step - loss: 24.3435\n"
          ]
        },
        {
          "output_type": "execute_result",
          "data": {
            "text/plain": [
              "<keras.callbacks.History at 0x7fafc40b61d0>"
            ]
          },
          "metadata": {},
          "execution_count": 12
        }
      ]
    },
    {
      "cell_type": "code",
      "metadata": {
        "id": "IA0yApEmBG1X",
        "colab": {
          "base_uri": "https://localhost:8080/"
        },
        "outputId": "3a074ba2-4f51-4f76-8ae0-df3abe2b807a"
      },
      "source": [
        "y_pred = ann.predict(X_test)\n",
        "np.set_printoptions(precision=2)\n",
        "print(np.concatenate((y_pred.reshape(len(y_pred),1), y_test.reshape(len(y_test),1)),1))"
      ],
      "execution_count": 13,
      "outputs": [
        {
          "output_type": "stream",
          "name": "stdout",
          "text": [
            "60/60 [==============================] - 0s 2ms/step\n",
            "[[429.98 431.23]\n",
            " [460.62 460.01]\n",
            " [465.4  461.14]\n",
            " ...\n",
            " [472.51 473.26]\n",
            " [436.33 438.  ]\n",
            " [457.48 463.28]]\n"
          ]
        }
      ]
    }
  ]
}